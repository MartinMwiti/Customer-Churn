{
  "nbformat": 4,
  "nbformat_minor": 0,
  "metadata": {
    "colab": {
      "name": "Efficiency_of_neural_network_layers.ipynb",
      "provenance": [],
      "collapsed_sections": [],
      "toc_visible": true
    },
    "kernelspec": {
      "name": "python3",
      "display_name": "Python 3"
    },
    "accelerator": "GPU"
  },
  "cells": [
    {
      "cell_type": "markdown",
      "metadata": {
        "id": "aicjnDrI228h",
        "colab_type": "text"
      },
      "source": [
        "#**Efficiency of Neural Network Layers.**"
      ]
    },
    {
      "cell_type": "markdown",
      "metadata": {
        "id": "Zagcy-my2-85",
        "colab_type": "text"
      },
      "source": [
        ">Below is an illustration of the different techniques that can be applied to neural network layers to improve its performance/efficiency.\n",
        "\n",
        ">For this illustration, i will be using Customer Churn in banking. \n",
        "\n",
        ">>I've also performed end-end data science pipeline for this very case which includes: feature engineering, visualization, and prediction using the various machine learning techniques. The code for this can be viewed using this link (https://nbviewer.jupyter.org/github/MartinMwiti/Customer-Churn/blob/master/Customer_Churn.ipynb)  "
      ]
    },
    {
      "cell_type": "markdown",
      "metadata": {
        "id": "xcLFeEbjeoN1",
        "colab_type": "text"
      },
      "source": [
        "#**Customer churn**"
      ]
    },
    {
      "cell_type": "markdown",
      "metadata": {
        "id": "oqHaCbEberfh",
        "colab_type": "text"
      },
      "source": [
        "Customers churn when they terminate services with a company. In the context of Banking, customers churn occurs when they stop using the services provided by the bank. Reasons for churn:\n",
        "\n",
        "\n",
        "*   They simply no longer use their services\n",
        "*   They go to Bank's competitors\n"
      ]
    },
    {
      "cell_type": "markdown",
      "metadata": {
        "id": "ze9FTt6He6AF",
        "colab_type": "text"
      },
      "source": [
        "##**Part 1 - Data Preprocessing**"
      ]
    },
    {
      "cell_type": "markdown",
      "metadata": {
        "id": "fvyAllNMEKVm",
        "colab_type": "text"
      },
      "source": [
        "###Importing libraries"
      ]
    },
    {
      "cell_type": "code",
      "metadata": {
        "id": "4UYXjX8-eU01",
        "colab_type": "code",
        "colab": {}
      },
      "source": [
        "%matplotlib inline\n",
        "import pandas as pd #data manipulation\n",
        "import numpy as np #linear algebra\n",
        "import matplotlib.pyplot as plt #visualization\n",
        "\n",
        "from sklearn.model_selection import GridSearchCV #hyperparameter optimization\n",
        "\n",
        "#deep learning libraries\n",
        "import keras\n",
        "from keras.wrappers.scikit_learn import KerasClassifier\n",
        "from keras.models import Sequential \n",
        "from keras.layers import Dense,Activation, Embedding,Flatten,LeakyReLU,Dropout, BatchNormalization\n",
        "from keras.activations import relu, sigmoid"
      ],
      "execution_count": 0,
      "outputs": []
    },
    {
      "cell_type": "markdown",
      "metadata": {
        "id": "-ijd6XaqfBzP",
        "colab_type": "text"
      },
      "source": [
        "###Importing the dataset"
      ]
    },
    {
      "cell_type": "code",
      "metadata": {
        "id": "KLLyPmlEedqC",
        "colab_type": "code",
        "colab": {}
      },
      "source": [
        "# Importing the dataset\n",
        "dataset = pd.read_csv('/content/drive/My Drive/Colab Notebooks/Churn_Modelling.csv')"
      ],
      "execution_count": 0,
      "outputs": []
    },
    {
      "cell_type": "markdown",
      "metadata": {
        "id": "lfuSgq3gfR_H",
        "colab_type": "text"
      },
      "source": [
        "##**Part 2 - Predictive Modeling using Artificial Neural Network (ANN).**"
      ]
    },
    {
      "cell_type": "code",
      "metadata": {
        "id": "sTFPtzAyfS-j",
        "colab_type": "code",
        "colab": {}
      },
      "source": [
        "X = dataset.iloc[:, 3:13]\n",
        "y = dataset.iloc[:, 13]"
      ],
      "execution_count": 0,
      "outputs": []
    },
    {
      "cell_type": "code",
      "metadata": {
        "id": "lylv9rrHfvLG",
        "colab_type": "code",
        "colab": {}
      },
      "source": [
        "geography = pd.get_dummies(X[\"Geography\"], drop_first = True)\n",
        "gender=pd.get_dummies(X['Gender'],drop_first=True)"
      ],
      "execution_count": 0,
      "outputs": []
    },
    {
      "cell_type": "code",
      "metadata": {
        "id": "W0UU4dzTfv9g",
        "colab_type": "code",
        "colab": {}
      },
      "source": [
        "# Concatenate the Data Frames\n",
        "X=pd.concat([X,geography,gender],axis=1)"
      ],
      "execution_count": 0,
      "outputs": []
    },
    {
      "cell_type": "code",
      "metadata": {
        "id": "1qBvzjxcfy2r",
        "colab_type": "code",
        "colab": {}
      },
      "source": [
        "# Drop Unnecessary columns\n",
        "X=X.drop(['Geography','Gender'],axis=1)"
      ],
      "execution_count": 0,
      "outputs": []
    },
    {
      "cell_type": "code",
      "metadata": {
        "id": "3WXfO1bef3F4",
        "colab_type": "code",
        "colab": {}
      },
      "source": [
        "# Splitting the dataset into the Training set and Test set\n",
        "from sklearn.model_selection import train_test_split\n",
        "X_train, X_test, y_train, y_test = train_test_split(X, y, test_size = 0.2, random_state = 0)"
      ],
      "execution_count": 0,
      "outputs": []
    },
    {
      "cell_type": "code",
      "metadata": {
        "id": "AtItSj3qf5Gg",
        "colab_type": "code",
        "colab": {}
      },
      "source": [
        "# Feature Scaling\n",
        "from sklearn.preprocessing import StandardScaler\n",
        "sc = StandardScaler()\n",
        "X_train = sc.fit_transform(X_train)\n",
        "X_test = sc.transform(X_test)"
      ],
      "execution_count": 0,
      "outputs": []
    },
    {
      "cell_type": "markdown",
      "metadata": {
        "id": "SM7gcyOx8f3x",
        "colab_type": "text"
      },
      "source": [
        "Techniques that i will use to improve efficiency of this ANN will include:\n",
        "\n",
        "\n",
        "1.   Hyperparameter tuning\n",
        "2.   Using Dense Layer\n",
        "3.   Using Dropout\n",
        "\n",
        "\n",
        ">**NB:** This is not a full list of all the options that can be exploited. All these will work but it's computationally expensive.\n",
        "\n",
        "Key Point.\n",
        "\n",
        "*   **Dense Layer** is fully connected neural network layer \n",
        "*   **Dropout** is similar to dense layer except that when the layer is used, the activations are set to zero for some random nodes. This is a way to prevent overfitting.\n",
        "\n",
        "*   **Batch normalization** is a technique for improving the speed, performance, and stability of artificial neural networks. It is used to normalize the input layer by adjusting and scaling the activations.\n",
        "\n"
      ]
    },
    {
      "cell_type": "code",
      "metadata": {
        "id": "fwQTDv8TKT1-",
        "colab_type": "code",
        "colab": {
          "base_uri": "https://localhost:8080/",
          "height": 35
        },
        "outputId": "d6f499c9-eee4-4791-cb3e-f1f21fd7b8b6"
      },
      "source": [
        "#find the dimension of the independent variables for use in the input layer for the ANN\n",
        "X_train.shape"
      ],
      "execution_count": 12,
      "outputs": [
        {
          "output_type": "execute_result",
          "data": {
            "text/plain": [
              "(8000, 11)"
            ]
          },
          "metadata": {
            "tags": []
          },
          "execution_count": 12
        }
      ]
    },
    {
      "cell_type": "markdown",
      "metadata": {
        "id": "8XZ8oBrOFlzR",
        "colab_type": "text"
      },
      "source": [
        "####Hyperparameter tuning - Finding optimal parameters"
      ]
    },
    {
      "cell_type": "code",
      "metadata": {
        "id": "bS8QLyaYFr5W",
        "colab_type": "code",
        "colab": {
          "base_uri": "https://localhost:8080/",
          "height": 565
        },
        "outputId": "19f4e5f6-df44-4570-c133-ff44983810c7"
      },
      "source": [
        "def create_model(layers, activation):\n",
        "    model = Sequential()\n",
        "    for i, nodes in enumerate(layers):\n",
        "        if i==0: #for the first layer\n",
        "            model.add(Dense(nodes, input_dim=X_train.shape[1]))\n",
        "            model.add(Activation(activation))\n",
        "            model.add(Dropout(0.3))\n",
        "        else:\n",
        "            model.add(Dense(nodes))\n",
        "            model.add(Activation(activation))\n",
        "            model.add(Dropout(0.3))\n",
        "\n",
        "    model.add(Dense(units = 1, kernel_initializer = 'glorot_uniform',activation='sigmoid',input_dim = 11))\n",
        "\n",
        "    model.compile(optimizer = 'adam', loss = 'binary_crossentropy', metrics = ['accuracy'])\n",
        "\n",
        "    return model\n",
        "\n",
        "model = KerasClassifier(build_fn = create_model, verbose=0)\n",
        "\n",
        "layers = [[20], [40,20], [45, 30, 15]] #these numbers are just arbitrary\n",
        "activations = ['sigmoid', 'relu']\n",
        "param_grid = dict(layers=layers, activation=activations, batch_size=[128, 256],epochs=[10])\n",
        "grid = GridSearchCV(estimator=model, param_grid=param_grid, cv=5)\n",
        "\n",
        "grid_result = grid.fit(X_train, y_train)\n",
        "\n",
        "print(grid_result.best_score_, grid_result.best_params_)"
      ],
      "execution_count": 20,
      "outputs": [
        {
          "output_type": "stream",
          "text": [
            "WARNING:tensorflow:From /usr/local/lib/python3.6/dist-packages/keras/backend/tensorflow_backend.py:148: The name tf.placeholder_with_default is deprecated. Please use tf.compat.v1.placeholder_with_default instead.\n",
            "\n",
            "WARNING:tensorflow:From /usr/local/lib/python3.6/dist-packages/keras/backend/tensorflow_backend.py:3733: calling dropout (from tensorflow.python.ops.nn_ops) with keep_prob is deprecated and will be removed in a future version.\n",
            "Instructions for updating:\n",
            "Please use `rate` instead of `keep_prob`. Rate should be set to `rate = 1 - keep_prob`.\n",
            "WARNING:tensorflow:From /usr/local/lib/python3.6/dist-packages/keras/optimizers.py:793: The name tf.train.Optimizer is deprecated. Please use tf.compat.v1.train.Optimizer instead.\n",
            "\n",
            "WARNING:tensorflow:From /usr/local/lib/python3.6/dist-packages/keras/backend/tensorflow_backend.py:3657: The name tf.log is deprecated. Please use tf.math.log instead.\n",
            "\n",
            "WARNING:tensorflow:From /usr/local/lib/python3.6/dist-packages/tensorflow_core/python/ops/nn_impl.py:183: where (from tensorflow.python.ops.array_ops) is deprecated and will be removed in a future version.\n",
            "Instructions for updating:\n",
            "Use tf.where in 2.0, which has the same broadcast rule as np.where\n",
            "WARNING:tensorflow:From /usr/local/lib/python3.6/dist-packages/keras/backend/tensorflow_backend.py:1033: The name tf.assign_add is deprecated. Please use tf.compat.v1.assign_add instead.\n",
            "\n",
            "WARNING:tensorflow:From /usr/local/lib/python3.6/dist-packages/keras/backend/tensorflow_backend.py:1020: The name tf.assign is deprecated. Please use tf.compat.v1.assign instead.\n",
            "\n",
            "WARNING:tensorflow:From /usr/local/lib/python3.6/dist-packages/keras/backend/tensorflow_backend.py:3005: The name tf.Session is deprecated. Please use tf.compat.v1.Session instead.\n",
            "\n",
            "WARNING:tensorflow:From /usr/local/lib/python3.6/dist-packages/keras/backend/tensorflow_backend.py:190: The name tf.get_default_session is deprecated. Please use tf.compat.v1.get_default_session instead.\n",
            "\n",
            "WARNING:tensorflow:From /usr/local/lib/python3.6/dist-packages/keras/backend/tensorflow_backend.py:197: The name tf.ConfigProto is deprecated. Please use tf.compat.v1.ConfigProto instead.\n",
            "\n",
            "WARNING:tensorflow:From /usr/local/lib/python3.6/dist-packages/keras/backend/tensorflow_backend.py:207: The name tf.global_variables is deprecated. Please use tf.compat.v1.global_variables instead.\n",
            "\n",
            "WARNING:tensorflow:From /usr/local/lib/python3.6/dist-packages/keras/backend/tensorflow_backend.py:216: The name tf.is_variable_initialized is deprecated. Please use tf.compat.v1.is_variable_initialized instead.\n",
            "\n",
            "WARNING:tensorflow:From /usr/local/lib/python3.6/dist-packages/keras/backend/tensorflow_backend.py:223: The name tf.variables_initializer is deprecated. Please use tf.compat.v1.variables_initializer instead.\n",
            "\n",
            "0.830125 {'activation': 'relu', 'batch_size': 128, 'epochs': 10, 'layers': [45, 30, 15]}\n"
          ],
          "name": "stdout"
        }
      ]
    },
    {
      "cell_type": "code",
      "metadata": {
        "id": "YIkvhh2r31O_",
        "colab_type": "code",
        "colab": {
          "base_uri": "https://localhost:8080/",
          "height": 35
        },
        "outputId": "63b01742-1139-4173-f39e-af27c4f5ba34"
      },
      "source": [
        "print(layers[0])"
      ],
      "execution_count": 26,
      "outputs": [
        {
          "output_type": "stream",
          "text": [
            "[20]\n"
          ],
          "name": "stdout"
        }
      ]
    },
    {
      "cell_type": "code",
      "metadata": {
        "id": "_zwA7dy-18cg",
        "colab_type": "code",
        "colab": {}
      },
      "source": [
        "# Predicting the Test set results\n",
        "y_pred = grid.predict(X_test)\n",
        "y_pred = (y_pred > 0.5)"
      ],
      "execution_count": 0,
      "outputs": []
    },
    {
      "cell_type": "code",
      "metadata": {
        "id": "Y2tqVQg82Cgf",
        "colab_type": "code",
        "colab": {
          "base_uri": "https://localhost:8080/",
          "height": 54
        },
        "outputId": "44e8ecf9-a8e6-4d4e-9d31-1b5f52c3bcaa"
      },
      "source": [
        "# Making the Confusion Matrix\n",
        "from sklearn.metrics import confusion_matrix\n",
        "cm = confusion_matrix(y_test, y_pred)\n",
        "cm"
      ],
      "execution_count": 22,
      "outputs": [
        {
          "output_type": "execute_result",
          "data": {
            "text/plain": [
              "array([[1537,   58],\n",
              "       [ 251,  154]])"
            ]
          },
          "metadata": {
            "tags": []
          },
          "execution_count": 22
        }
      ]
    },
    {
      "cell_type": "code",
      "metadata": {
        "id": "JomXB88h2Tyj",
        "colab_type": "code",
        "colab": {
          "base_uri": "https://localhost:8080/",
          "height": 35
        },
        "outputId": "1e750153-d5ef-455f-9ceb-cbaf3cb4b8d8"
      },
      "source": [
        "# Calculate the Accuracy\n",
        "from sklearn.metrics import accuracy_score\n",
        "score=accuracy_score(y_pred,y_test)\n",
        "print('The score accuracy is: %0.2f%%' %(score*100))"
      ],
      "execution_count": 23,
      "outputs": [
        {
          "output_type": "stream",
          "text": [
            "The score accuracy is: 84.55%\n"
          ],
          "name": "stdout"
        }
      ]
    },
    {
      "cell_type": "markdown",
      "metadata": {
        "id": "jzwOVq-TJHyi",
        "colab_type": "text"
      },
      "source": [
        "### Initialising the ANN"
      ]
    },
    {
      "cell_type": "code",
      "metadata": {
        "id": "4h24AnLhgTuS",
        "colab_type": "code",
        "colab": {}
      },
      "source": [
        "classifier = Sequential()"
      ],
      "execution_count": 0,
      "outputs": []
    },
    {
      "cell_type": "markdown",
      "metadata": {
        "id": "Xeamc9bjJ8cs",
        "colab_type": "text"
      },
      "source": [
        "###Method 1: Applying Dense Layer"
      ]
    },
    {
      "cell_type": "code",
      "metadata": {
        "id": "vPKdZagNgV6B",
        "colab_type": "code",
        "outputId": "ea522c64-c9cd-4b12-8cf3-0341b05f4770",
        "colab": {
          "base_uri": "https://localhost:8080/",
          "height": 110
        }
      },
      "source": [
        "# Adding the input layer and the first hidden layer\n",
        "classifier.add(Dense(units= 6, kernel_initializer = 'he_uniform',activation='relu',input_dim = 11))\n",
        "#classifier.add(Dropout(0.3))"
      ],
      "execution_count": 0,
      "outputs": [
        {
          "output_type": "stream",
          "text": [
            "WARNING:tensorflow:From /usr/local/lib/python3.6/dist-packages/keras/backend/tensorflow_backend.py:541: The name tf.placeholder is deprecated. Please use tf.compat.v1.placeholder instead.\n",
            "\n",
            "WARNING:tensorflow:From /usr/local/lib/python3.6/dist-packages/keras/backend/tensorflow_backend.py:4432: The name tf.random_uniform is deprecated. Please use tf.random.uniform instead.\n",
            "\n"
          ],
          "name": "stdout"
        }
      ]
    },
    {
      "cell_type": "code",
      "metadata": {
        "id": "BU65p3S4gYRG",
        "colab_type": "code",
        "colab": {}
      },
      "source": [
        "# Adding the second hidden layer\n",
        "classifier.add(Dense(units = 6, kernel_initializer = 'he_uniform',activation='relu'))\n",
        "#classifier.add(Dropout(0.4))\n",
        "\n",
        "# Adding the output layer\n",
        "classifier.add(Dense(units = 1, kernel_initializer = 'glorot_uniform', activation = 'sigmoid'))"
      ],
      "execution_count": 0,
      "outputs": []
    },
    {
      "cell_type": "code",
      "metadata": {
        "id": "bBYHcJCngapY",
        "colab_type": "code",
        "outputId": "a6d19c42-48f7-47bc-dadb-89a185da7745",
        "colab": {
          "base_uri": "https://localhost:8080/",
          "height": 165
        }
      },
      "source": [
        "# Compiling the ANN\n",
        "classifier.compile(optimizer = 'adam', loss = 'binary_crossentropy', metrics = ['accuracy'])"
      ],
      "execution_count": 0,
      "outputs": [
        {
          "output_type": "stream",
          "text": [
            "WARNING:tensorflow:From /usr/local/lib/python3.6/dist-packages/keras/optimizers.py:793: The name tf.train.Optimizer is deprecated. Please use tf.compat.v1.train.Optimizer instead.\n",
            "\n",
            "WARNING:tensorflow:From /usr/local/lib/python3.6/dist-packages/keras/backend/tensorflow_backend.py:3657: The name tf.log is deprecated. Please use tf.math.log instead.\n",
            "\n",
            "WARNING:tensorflow:From /usr/local/lib/python3.6/dist-packages/tensorflow_core/python/ops/nn_impl.py:183: where (from tensorflow.python.ops.array_ops) is deprecated and will be removed in a future version.\n",
            "Instructions for updating:\n",
            "Use tf.where in 2.0, which has the same broadcast rule as np.where\n"
          ],
          "name": "stdout"
        }
      ]
    },
    {
      "cell_type": "code",
      "metadata": {
        "id": "dMqJo25zgc4c",
        "colab_type": "code",
        "outputId": "0e02fa56-eabf-4184-ab18-56105b88ff3a",
        "colab": {
          "base_uri": "https://localhost:8080/",
          "height": 710
        }
      },
      "source": [
        "# Fitting the ANN to the Training set\n",
        "model_history=classifier.fit(X_train, y_train,validation_split=0.33, batch_size = 10, epochs = 10)"
      ],
      "execution_count": 0,
      "outputs": [
        {
          "output_type": "stream",
          "text": [
            "WARNING:tensorflow:From /usr/local/lib/python3.6/dist-packages/keras/backend/tensorflow_backend.py:1033: The name tf.assign_add is deprecated. Please use tf.compat.v1.assign_add instead.\n",
            "\n",
            "WARNING:tensorflow:From /usr/local/lib/python3.6/dist-packages/keras/backend/tensorflow_backend.py:1020: The name tf.assign is deprecated. Please use tf.compat.v1.assign instead.\n",
            "\n",
            "WARNING:tensorflow:From /usr/local/lib/python3.6/dist-packages/keras/backend/tensorflow_backend.py:3005: The name tf.Session is deprecated. Please use tf.compat.v1.Session instead.\n",
            "\n",
            "Train on 5359 samples, validate on 2641 samples\n",
            "Epoch 1/10\n",
            "WARNING:tensorflow:From /usr/local/lib/python3.6/dist-packages/keras/backend/tensorflow_backend.py:190: The name tf.get_default_session is deprecated. Please use tf.compat.v1.get_default_session instead.\n",
            "\n",
            "WARNING:tensorflow:From /usr/local/lib/python3.6/dist-packages/keras/backend/tensorflow_backend.py:197: The name tf.ConfigProto is deprecated. Please use tf.compat.v1.ConfigProto instead.\n",
            "\n",
            "WARNING:tensorflow:From /usr/local/lib/python3.6/dist-packages/keras/backend/tensorflow_backend.py:207: The name tf.global_variables is deprecated. Please use tf.compat.v1.global_variables instead.\n",
            "\n",
            "WARNING:tensorflow:From /usr/local/lib/python3.6/dist-packages/keras/backend/tensorflow_backend.py:216: The name tf.is_variable_initialized is deprecated. Please use tf.compat.v1.is_variable_initialized instead.\n",
            "\n",
            "WARNING:tensorflow:From /usr/local/lib/python3.6/dist-packages/keras/backend/tensorflow_backend.py:223: The name tf.variables_initializer is deprecated. Please use tf.compat.v1.variables_initializer instead.\n",
            "\n",
            "5359/5359 [==============================] - 8s 1ms/step - loss: 0.9096 - acc: 0.5165 - val_loss: 0.6279 - val_acc: 0.7153\n",
            "Epoch 2/10\n",
            "5359/5359 [==============================] - 3s 539us/step - loss: 0.5784 - acc: 0.7822 - val_loss: 0.5487 - val_acc: 0.7955\n",
            "Epoch 3/10\n",
            "5359/5359 [==============================] - 3s 522us/step - loss: 0.5287 - acc: 0.7992 - val_loss: 0.5150 - val_acc: 0.7982\n",
            "Epoch 4/10\n",
            "5359/5359 [==============================] - 3s 512us/step - loss: 0.4944 - acc: 0.8087 - val_loss: 0.4813 - val_acc: 0.8156\n",
            "Epoch 5/10\n",
            "5359/5359 [==============================] - 3s 520us/step - loss: 0.4587 - acc: 0.8242 - val_loss: 0.4539 - val_acc: 0.8232\n",
            "Epoch 6/10\n",
            "5359/5359 [==============================] - 3s 519us/step - loss: 0.4329 - acc: 0.8334 - val_loss: 0.4344 - val_acc: 0.8330\n",
            "Epoch 7/10\n",
            "5359/5359 [==============================] - 3s 517us/step - loss: 0.4124 - acc: 0.8414 - val_loss: 0.4174 - val_acc: 0.8410\n",
            "Epoch 8/10\n",
            "5359/5359 [==============================] - 3s 527us/step - loss: 0.3953 - acc: 0.8489 - val_loss: 0.4038 - val_acc: 0.8436\n",
            "Epoch 9/10\n",
            "5359/5359 [==============================] - 3s 526us/step - loss: 0.3827 - acc: 0.8513 - val_loss: 0.3953 - val_acc: 0.8493\n",
            "Epoch 10/10\n",
            "5359/5359 [==============================] - 3s 528us/step - loss: 0.3740 - acc: 0.8565 - val_loss: 0.3881 - val_acc: 0.8478\n"
          ],
          "name": "stdout"
        }
      ]
    },
    {
      "cell_type": "code",
      "metadata": {
        "id": "mVZYt5dsggpb",
        "colab_type": "code",
        "outputId": "6d5fc8f7-c779-4dd8-ab64-0a8061327b37",
        "colab": {
          "base_uri": "https://localhost:8080/",
          "height": 313
        }
      },
      "source": [
        "# list all data in history\n",
        "print(model_history.history.keys())\n",
        "# summarize history for accuracy\n",
        "plt.plot(model_history.history['acc'])\n",
        "plt.plot(model_history.history['val_acc'])\n",
        "plt.title('model accuracy')\n",
        "plt.ylabel('accuracy')\n",
        "plt.xlabel('epoch')\n",
        "plt.legend(['train', 'test'], loc='upper left')\n",
        "plt.show()"
      ],
      "execution_count": 0,
      "outputs": [
        {
          "output_type": "stream",
          "text": [
            "dict_keys(['val_loss', 'val_acc', 'loss', 'acc'])\n"
          ],
          "name": "stdout"
        },
        {
          "output_type": "display_data",
          "data": {
            "image/png": "[encoded data removed]",
            "text/plain": [
              "<Figure size 432x288 with 1 Axes>"
            ]
          },
          "metadata": {
            "tags": []
          }
        }
      ]
    },
    {
      "cell_type": "markdown",
      "metadata": {
        "id": "yvaLNgcpA7O2",
        "colab_type": "text"
      },
      "source": [
        ">From the above graph, test and training accuracy are closely to identical, this is a good sign that the model is not overfitting."
      ]
    },
    {
      "cell_type": "code",
      "metadata": {
        "id": "eM_c2R7ZgjHQ",
        "colab_type": "code",
        "outputId": "4d015e82-a34a-4b8f-e48e-d0ff7d4940dc",
        "colab": {
          "base_uri": "https://localhost:8080/",
          "height": 295
        }
      },
      "source": [
        "# summarize history for loss\n",
        "plt.plot(model_history.history['loss'])\n",
        "plt.plot(model_history.history['val_loss'])\n",
        "plt.title('model loss')\n",
        "plt.ylabel('loss')\n",
        "plt.xlabel('epoch')\n",
        "plt.legend(['train', 'test'], loc='upper left')\n",
        "plt.show()"
      ],
      "execution_count": 0,
      "outputs": [
        {
          "output_type": "display_data",
          "data": {
            "image/png": "[encoded data removed]",
            "text/plain": [
              "<Figure size 432x288 with 1 Axes>"
            ]
          },
          "metadata": {
            "tags": []
          }
        }
      ]
    },
    {
      "cell_type": "markdown",
      "metadata": {
        "id": "P74zzbXAg3Iq",
        "colab_type": "text"
      },
      "source": [
        "###**Part 3 - Making the predictions and evaluating the model**"
      ]
    },
    {
      "cell_type": "code",
      "metadata": {
        "id": "8QXSogDxguju",
        "colab_type": "code",
        "colab": {}
      },
      "source": [
        "# Predicting the Test set results\n",
        "y_pred = classifier.predict(X_test)\n",
        "y_pred = (y_pred > 0.5)"
      ],
      "execution_count": 0,
      "outputs": []
    },
    {
      "cell_type": "code",
      "metadata": {
        "id": "vsn2JQNWgwm9",
        "colab_type": "code",
        "outputId": "3affa063-03a8-41bf-ba21-443fb19b32d6",
        "colab": {
          "base_uri": "https://localhost:8080/",
          "height": 54
        }
      },
      "source": [
        "# Making the Confusion Matrix\n",
        "from sklearn.metrics import confusion_matrix\n",
        "cm = confusion_matrix(y_test, y_pred)\n",
        "cm"
      ],
      "execution_count": 0,
      "outputs": [
        {
          "output_type": "execute_result",
          "data": {
            "text/plain": [
              "array([[1555,   40],\n",
              "       [ 231,  174]])"
            ]
          },
          "metadata": {
            "tags": []
          },
          "execution_count": 19
        }
      ]
    },
    {
      "cell_type": "code",
      "metadata": {
        "id": "cs0umFcygzkj",
        "colab_type": "code",
        "outputId": "c51f8c0e-a3de-4017-cf2c-acf886344c02",
        "colab": {
          "base_uri": "https://localhost:8080/",
          "height": 35
        }
      },
      "source": [
        "# Calculate the Accuracy\n",
        "from sklearn.metrics import accuracy_score\n",
        "score=accuracy_score(y_pred,y_test)\n",
        "print('The score accuracy is: %0.2f%%' %(score*100))"
      ],
      "execution_count": 0,
      "outputs": [
        {
          "output_type": "stream",
          "text": [
            "The score accuracy is: 86.45%\n"
          ],
          "name": "stdout"
        }
      ]
    },
    {
      "cell_type": "markdown",
      "metadata": {
        "id": "5nAcfLNBiKOx",
        "colab_type": "text"
      },
      "source": [
        "###Method 2: Applying 'Drop-out' to our ANN model"
      ]
    },
    {
      "cell_type": "code",
      "metadata": {
        "id": "P0L_t8KDBXUg",
        "colab_type": "code",
        "colab": {}
      },
      "source": [
        "# Adding the input layer and the first hidden layer\n",
        "classifier.add(Dense(units= 6, kernel_initializer = 'he_uniform',activation='relu',input_dim = 11))\n",
        "classifier.add(Dropout(0.3))"
      ],
      "execution_count": 0,
      "outputs": []
    },
    {
      "cell_type": "code",
      "metadata": {
        "id": "BSklZDk6BYZL",
        "colab_type": "code",
        "colab": {}
      },
      "source": [
        "# Adding the second hidden layer\n",
        "classifier.add(Dense(units = 6, kernel_initializer = 'he_uniform',activation='relu'))\n",
        "classifier.add(Dropout(0.4))\n",
        "\n",
        "# Adding the output layer\n",
        "classifier.add(Dense(units = 1, kernel_initializer = 'glorot_uniform', activation = 'sigmoid'))"
      ],
      "execution_count": 0,
      "outputs": []
    },
    {
      "cell_type": "code",
      "metadata": {
        "id": "YDhIKupdBb_p",
        "colab_type": "code",
        "colab": {}
      },
      "source": [
        "# Compiling the ANN\n",
        "classifier.compile(optimizer = 'adam', loss = 'binary_crossentropy', metrics = ['accuracy'])"
      ],
      "execution_count": 0,
      "outputs": []
    },
    {
      "cell_type": "code",
      "metadata": {
        "id": "SgP8waIfBi1p",
        "colab_type": "code",
        "colab": {
          "base_uri": "https://localhost:8080/",
          "height": 419
        },
        "outputId": "00198564-2337-4734-d301-5cc336136022"
      },
      "source": [
        "# Fitting the ANN to the Training set\n",
        "model_history=classifier.fit(X_train, y_train,validation_split=0.33, batch_size = 10, epochs = 10)"
      ],
      "execution_count": 30,
      "outputs": [
        {
          "output_type": "stream",
          "text": [
            "Train on 5359 samples, validate on 2641 samples\n",
            "Epoch 1/10\n",
            "5359/5359 [==============================] - 12s 2ms/step - loss: 0.8890 - acc: 0.5971 - val_loss: 0.5281 - val_acc: 0.7933\n",
            "Epoch 2/10\n",
            "5359/5359 [==============================] - 4s 715us/step - loss: 0.5662 - acc: 0.7664 - val_loss: 0.5003 - val_acc: 0.7959\n",
            "Epoch 3/10\n",
            "5359/5359 [==============================] - 4s 713us/step - loss: 0.5277 - acc: 0.7893 - val_loss: 0.4900 - val_acc: 0.7959\n",
            "Epoch 4/10\n",
            "5359/5359 [==============================] - 4s 715us/step - loss: 0.5097 - acc: 0.7949 - val_loss: 0.4839 - val_acc: 0.7955\n",
            "Epoch 5/10\n",
            "5359/5359 [==============================] - 4s 712us/step - loss: 0.4953 - acc: 0.7977 - val_loss: 0.4770 - val_acc: 0.7959\n",
            "Epoch 6/10\n",
            "5359/5359 [==============================] - 4s 720us/step - loss: 0.4910 - acc: 0.7951 - val_loss: 0.4708 - val_acc: 0.7967\n",
            "Epoch 7/10\n",
            "5359/5359 [==============================] - 4s 711us/step - loss: 0.4801 - acc: 0.7964 - val_loss: 0.4620 - val_acc: 0.7978\n",
            "Epoch 8/10\n",
            "5359/5359 [==============================] - 4s 719us/step - loss: 0.4743 - acc: 0.8018 - val_loss: 0.4546 - val_acc: 0.7989\n",
            "Epoch 9/10\n",
            "5359/5359 [==============================] - 4s 720us/step - loss: 0.4652 - acc: 0.7994 - val_loss: 0.4489 - val_acc: 0.7997\n",
            "Epoch 10/10\n",
            "5359/5359 [==============================] - 4s 723us/step - loss: 0.4640 - acc: 0.8035 - val_loss: 0.4470 - val_acc: 0.8005\n"
          ],
          "name": "stdout"
        }
      ]
    },
    {
      "cell_type": "code",
      "metadata": {
        "id": "K14zNbMmBm1z",
        "colab_type": "code",
        "colab": {
          "base_uri": "https://localhost:8080/",
          "height": 313
        },
        "outputId": "9fbae1ca-b126-4f1e-a7b6-658148181d23"
      },
      "source": [
        "# list all data in history\n",
        "print(model_history.history.keys())\n",
        "# summarize history for accuracy\n",
        "plt.plot(model_history.history['acc'])\n",
        "plt.plot(model_history.history['val_acc'])\n",
        "plt.title('model accuracy')\n",
        "plt.ylabel('accuracy')\n",
        "plt.xlabel('epoch')\n",
        "plt.legend(['train', 'test'], loc='upper left')\n",
        "plt.show()"
      ],
      "execution_count": 31,
      "outputs": [
        {
          "output_type": "stream",
          "text": [
            "dict_keys(['val_loss', 'val_acc', 'loss', 'acc'])\n"
          ],
          "name": "stdout"
        },
        {
          "output_type": "display_data",
          "data": {
            "image/png": "[encoded data removed]",
            "text/plain": [
              "<Figure size 432x288 with 1 Axes>"
            ]
          },
          "metadata": {
            "tags": []
          }
        }
      ]
    },
    {
      "cell_type": "code",
      "metadata": {
        "id": "bJx77jbuBpxI",
        "colab_type": "code",
        "colab": {
          "base_uri": "https://localhost:8080/",
          "height": 295
        },
        "outputId": "369542cd-d009-44ad-bf64-f72bd44ba85e"
      },
      "source": [
        "# summarize history for loss\n",
        "plt.plot(model_history.history['loss'])\n",
        "plt.plot(model_history.history['val_loss'])\n",
        "plt.title('model loss')\n",
        "plt.ylabel('loss')\n",
        "plt.xlabel('epoch')\n",
        "plt.legend(['train', 'test'], loc='upper left')\n",
        "plt.show()"
      ],
      "execution_count": 32,
      "outputs": [
        {
          "output_type": "display_data",
          "data": {
            "image/png": "[encoded data removed]",
            "text/plain": [
              "<Figure size 432x288 with 1 Axes>"
            ]
          },
          "metadata": {
            "tags": []
          }
        }
      ]
    },
    {
      "cell_type": "markdown",
      "metadata": {
        "id": "VTG9bppUB1Tb",
        "colab_type": "text"
      },
      "source": [
        "###**Part 3 - Making the predictions and evaluating the model**"
      ]
    },
    {
      "cell_type": "code",
      "metadata": {
        "id": "n8JL8b6SBqbZ",
        "colab_type": "code",
        "colab": {}
      },
      "source": [
        "# Predicting the Test set results\n",
        "y_pred = classifier.predict(X_test)\n",
        "y_pred = (y_pred > 0.5)"
      ],
      "execution_count": 0,
      "outputs": []
    },
    {
      "cell_type": "code",
      "metadata": {
        "id": "-iLBlgNABvM3",
        "colab_type": "code",
        "colab": {
          "base_uri": "https://localhost:8080/",
          "height": 54
        },
        "outputId": "1d87f2f7-cd02-4e04-d938-cb1231f9666a"
      },
      "source": [
        "# Making the Confusion Matrix\n",
        "from sklearn.metrics import confusion_matrix\n",
        "cm = confusion_matrix(y_test, y_pred)\n",
        "cm"
      ],
      "execution_count": 34,
      "outputs": [
        {
          "output_type": "execute_result",
          "data": {
            "text/plain": [
              "array([[1588,    7],\n",
              "       [ 394,   11]])"
            ]
          },
          "metadata": {
            "tags": []
          },
          "execution_count": 34
        }
      ]
    },
    {
      "cell_type": "code",
      "metadata": {
        "id": "-csRhAYuBxYP",
        "colab_type": "code",
        "colab": {
          "base_uri": "https://localhost:8080/",
          "height": 35
        },
        "outputId": "f47e0eb7-aa68-49f1-a199-a12993ab7892"
      },
      "source": [
        "# Calculate the Accuracy\n",
        "from sklearn.metrics import accuracy_score\n",
        "score=accuracy_score(y_pred,y_test)\n",
        "print('The score accuracy is: %0.2f%%' %(score*100))"
      ],
      "execution_count": 35,
      "outputs": [
        {
          "output_type": "stream",
          "text": [
            "The score accuracy is: 79.95%\n"
          ],
          "name": "stdout"
        }
      ]
    },
    {
      "cell_type": "markdown",
      "metadata": {
        "id": "-_YBmIC-6kuU",
        "colab_type": "text"
      },
      "source": [
        "> **Note:** We can see that by adding Dropout layers, the accuracy of our model has decreased. This could attributed to the fact that our model which has Dense layers without dropout was not overfitting, thus adding Dropout layer reduced the amount of features our model was learning from at each iteration."
      ]
    },
    {
      "cell_type": "markdown",
      "metadata": {
        "id": "UBHtfBBb760a",
        "colab_type": "text"
      },
      "source": [
        "**Conclusions:** \n",
        "1. If our model is overfitting(This can be detected if the test accuracy is significantly less than our train accuracy for each epoch), addition of a dropout layer will make our neural network layers more efficient. If on the other hand our model is not overfitting, adding dropout layer will make it perform less optimally.\n",
        "\n",
        "2. Appying hyperparameter tuning may not always produce the best parameters in cases where the fed parameters are chosen randomly from a pool of infinite values, i.e number which can range from 0 to infinite. in our case, using 1 input layer, 1 hidden layer of 6 nodes produced better performance compared to the 3 hidden layers our GridSearch suggested."
      ]
    }
  ]
}